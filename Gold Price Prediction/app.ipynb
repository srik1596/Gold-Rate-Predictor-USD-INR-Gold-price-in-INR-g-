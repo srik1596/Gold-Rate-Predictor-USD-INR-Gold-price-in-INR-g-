{
 "cells": [
  {
   "cell_type": "code",
   "execution_count": 7,
   "id": "86811373-a5b6-4c41-823e-fe6a2cd8aa38",
   "metadata": {},
   "outputs": [],
   "source": [
    "import gradio as gr\n",
    "import pickle\n",
    "import numpy as np\n",
    "\n",
    "scaler = pickle.load(open('scaler.pkl', 'rb'))\n",
    "model = pickle.load(open('regressor.pkl', 'rb'))\n",
    "\n",
    "def calculate_goldrate(usd_inr):\n",
    "    scaled_input = scaler.transform(np.array(usd_inr).reshape(1,-1))\n",
    "    return round(model.predict(scaled_input)[0][0],2)\n",
    "\n",
    "demo = gr.Interface(\n",
    "    fn=calculate_goldrate,\n",
    "    inputs=['number'],\n",
    "    output=['number'],\n",
    "    title='How much is 1g of Gold in India now?'\n",
    ")\n",
    "demo.launch()\n"
   ]
  },
  {
   "cell_type": "code",
   "execution_count": 9,
   "id": "2bec2313-237d-4914-877e-1e32c38da4dc",
   "metadata": {},
   "outputs": [],
   "source": []
  },
  {
   "cell_type": "code",
   "execution_count": null,
   "id": "b78c16b2-8b5b-4f30-8ba7-55c9e175557c",
   "metadata": {},
   "outputs": [],
   "source": []
  }
 ],
 "metadata": {
  "kernelspec": {
   "display_name": "Python 3 (ipykernel)",
   "language": "python",
   "name": "python3"
  },
  "language_info": {
   "codemirror_mode": {
    "name": "ipython",
    "version": 3
   },
   "file_extension": ".py",
   "mimetype": "text/x-python",
   "name": "python",
   "nbconvert_exporter": "python",
   "pygments_lexer": "ipython3",
   "version": "3.12.4"
  }
 },
 "nbformat": 4,
 "nbformat_minor": 5
}
